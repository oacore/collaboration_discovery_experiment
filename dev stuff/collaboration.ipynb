{
 "cells": [
  {
   "cell_type": "code",
   "execution_count": null,
   "metadata": {
    "collapsed": true
   },
   "outputs": [],
   "source": []
  },
  {
   "cell_type": "code",
   "execution_count": 57,
   "metadata": {
    "collapsed": false
   },
   "outputs": [],
   "source": [
    "from urllib2 import urlopen\n",
    "from urllib import urlencode\n",
    "from urllib import quote_plus\n",
    "# import urllib.parse\n",
    "import json\n",
    "import pprint\n",
    "\n",
    "class CoreApiRequestor:\n",
    "\n",
    "    def __init__(self, endpoint, api_key):\n",
    "        self.endpoint = endpoint\n",
    "        self.api_key = api_key\n",
    "        #defaults\n",
    "        self.pagesize = 100\n",
    "        self.page = 1\n",
    "\n",
    "    def parse_response(self, decoded):\n",
    "        res = []\n",
    "        for item in decoded['data']:\n",
    "            doi = None\n",
    "            if 'identifiers' in item:\n",
    "                for identifier in item['identifiers']:\n",
    "                    if identifier and identifier.startswith('doi:'):\n",
    "                        doi = identifier\n",
    "                        break\n",
    "            res.append([item['title'], doi])\n",
    "        return res\n",
    "\n",
    "    def request_url(self, url):\n",
    "        print(url)\n",
    "        response = urlopen(url)\n",
    "        html = response.read()\n",
    "        return html\n",
    "\n",
    "    def get_method_query_request_url(self,method,query,fullText,page):\n",
    "        if (fullText):\n",
    "            fullText = 'true'\n",
    "        else:\n",
    "            fullText = 'false'\n",
    "        params = {\n",
    "            'apiKey':self.api_key,\n",
    "            'page':page,\n",
    "            'pageSize':self.pagesize,\n",
    "            'fulltext':fullText\n",
    "        }\n",
    "        return self.endpoint + method + '/' + quote_plus(query) + '?' + urlencode(params)\n",
    "\n",
    "    def get_up_to_20_pages_of_query(self,method,query,fulltext):\n",
    "        url = self.get_method_query_request_url(method,query,fulltext,1)\n",
    "        all_articles=[]\n",
    "        resp = self.request_url(url)\n",
    "        result = json.loads(resp.decode('utf-8'))\n",
    "        all_articles.append(result)\n",
    "        if (result['totalHits']>100):\n",
    "            numOfPages = int(result['totalHits']/self.pagesize)  #rounds down\n",
    "            if (numOfPages>20):\n",
    "                numOfPages=20\n",
    "            for i in range(2,numOfPages):\n",
    "                url = self.get_method_query_request_url(method,query,False,i)\n",
    "                print(url)\n",
    "                resp =self.request_url(url)\n",
    "                all_articles.append(json.loads(resp.decode('utf-8')))\n",
    "        return all_articles\n",
    "    \n",
    "    def get_repository_articles_fulltext_as_dict(self,repository_id):\n",
    "        return \"\"\n",
    "    \n",
    "    def get_search_repository_request_url(self,repoQuery,page=1,pageSize=10):\n",
    "        params={\n",
    "            'apiKey':self.api_key,\n",
    "            'page':page,\n",
    "            'pageSize':pageSize\n",
    "        }\n",
    "        return self.endpoint + \"/repositories/search/\"+quote_plus(repoQuery)+'?'+urlencode(params)\n",
    "    \n",
    "    def search_repository_ids_by_name(self,repoName):\n",
    "        discoverRepoUrl = self.get_search_repository_request_url(repoName)\n",
    "        resp = self.request_url(discoverRepoUrl)\n",
    "        result = json.loads(resp.decode('utf-8'))\n",
    "        for item in result['data']:\n",
    "            if 'name' in item:\n",
    "                name = item['name']\n",
    "            if 'id' in item:\n",
    "                id = item['id']\n",
    "            repos[id]=name\n",
    "        return repos\n",
    "    \n",
    "    def get_count_articles_of_repository_url(self,repoId,withFullText):\n",
    "        ft = 'false'\n",
    "        if(withFullText):\n",
    "            ft = 'true'\n",
    "                \n",
    "        params = {\n",
    "            'apiKey':self.api_key,\n",
    "            'fulltext':ft\n",
    "        }    \n",
    "        return self.endpoint + \"/articles/search/repositories.id:\"+repoId+'?'+urlencode(params)\n",
    "    \n",
    "    def count_articles_of_repository(self,repoId,withFullText=False):\n",
    "        countArticlesOfRepoUrl = self.get_count_articles_of_repository_url\n",
    "        print(countArticlesOfRepoUrl)\n",
    "        resp = self.request_url(countArticlesOfRepoUrl)\n",
    "        result = json.loads(resp.decode('utf-8'))\n",
    "        return result['totalHits']"
   ]
  },
  {
   "cell_type": "code",
   "execution_count": 58,
   "metadata": {
    "collapsed": true
   },
   "outputs": [],
   "source": [
    "'''\n",
    "Initialise parameters\n",
    "'''\n",
    "# init \n",
    "endpoint = 'https://core.ac.uk/api-v2'\n",
    "\n",
    "'''\n",
    "********************************************\n",
    "Add your own api key below\n",
    "'''\n",
    "api_key = 'nTo627BU8jPNth4EbsrDue9IXWzAfZiY'\n",
    "'''\n",
    "********************************************\n",
    "'''\n",
    "'''\n",
    "Create your api object\n",
    "'''\n",
    "api = CoreApiRequestor(endpoint,api_key)"
   ]
  },
  {
   "cell_type": "code",
   "execution_count": null,
   "metadata": {
    "collapsed": true
   },
   "outputs": [],
   "source": []
  },
  {
   "cell_type": "code",
   "execution_count": 43,
   "metadata": {
    "collapsed": false
   },
   "outputs": [
    {
     "data": {
      "text/plain": [
       "'https://core.ac.uk/api-v2/repositories/search/oxford?apiKey=nTo627BU8jPNth4EbsrDue9IXWzAfZiY&page=1&pageSize=20'"
      ]
     },
     "execution_count": 43,
     "metadata": {},
     "output_type": "execute_result"
    }
   ],
   "source": [
    "'''\n",
    "Discover a repository of your choice\n",
    "e.g. oxford ?\n",
    "'''\n",
    "url = api.get_search_repository_request_url(\"oxford\",1,20)\n",
    "url"
   ]
  },
  {
   "cell_type": "code",
   "execution_count": 54,
   "metadata": {
    "collapsed": false
   },
   "outputs": [
    {
     "data": {
      "text/plain": [
       "{88: u'Oxford University Research Archive',\n",
       " 618: u'Oxford Text Archive',\n",
       " 662: u'Eureka - the SBS Repository, University of Oxford'}"
      ]
     },
     "execution_count": 54,
     "metadata": {},
     "output_type": "execute_result"
    }
   ],
   "source": [
    "repos = api.search_repository_ids_by_name(\"Oxford\")\n",
    "repos"
   ]
  },
  {
   "cell_type": "code",
   "execution_count": 62,
   "metadata": {
    "collapsed": false
   },
   "outputs": [
    {
     "data": {
      "text/plain": [
       "'https://core.ac.uk/api-v2/articles/search/repositories.id:88?fulltext=false&apiKey=nTo627BU8jPNth4EbsrDue9IXWzAfZiY'"
      ]
     },
     "execution_count": 62,
     "metadata": {},
     "output_type": "execute_result"
    }
   ],
   "source": [
    "'''\n",
    "Get counts of articles of each repository\n",
    "'''\n",
    "ctn = api.get_count_articles_of_repository_url(str(88),False)\n",
    "# count_articles_of_repository(str(88))\n",
    "ctn\n",
    "# for repo in repos:\n",
    "#     ctn = api.count_articles_of_repository(str(repo))\n",
    "#     print(repo,ctn)"
   ]
  },
  {
   "cell_type": "code",
   "execution_count": null,
   "metadata": {
    "collapsed": true
   },
   "outputs": [],
   "source": []
  }
 ],
 "metadata": {
  "kernelspec": {
   "display_name": "Python 2",
   "language": "python",
   "name": "python2"
  },
  "language_info": {
   "codemirror_mode": {
    "name": "ipython",
    "version": 2
   },
   "file_extension": ".py",
   "mimetype": "text/x-python",
   "name": "python",
   "nbconvert_exporter": "python",
   "pygments_lexer": "ipython2",
   "version": "2.7.12"
  }
 },
 "nbformat": 4,
 "nbformat_minor": 0
}
