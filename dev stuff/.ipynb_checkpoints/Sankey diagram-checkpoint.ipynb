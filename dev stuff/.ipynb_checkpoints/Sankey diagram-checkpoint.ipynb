{
 "cells": [
  {
   "cell_type": "code",
   "execution_count": 477,
   "metadata": {
    "collapsed": false
   },
   "outputs": [],
   "source": [
    "# !pip install plotly"
   ]
  },
  {
   "cell_type": "code",
   "execution_count": 478,
   "metadata": {
    "collapsed": false
   },
   "outputs": [
    {
     "data": {
      "text/plain": [
       "'2.0.12'"
      ]
     },
     "execution_count": 478,
     "metadata": {},
     "output_type": "execute_result"
    }
   ],
   "source": [
    "import plotly\n",
    "plotly.__version__"
   ]
  },
  {
   "cell_type": "code",
   "execution_count": 574,
   "metadata": {
    "collapsed": true
   },
   "outputs": [],
   "source": [
    "import pickle \n",
    "import re\n",
    "def get_all_emails_with_time_of_repository(repoId):\n",
    "    all_emails = []\n",
    "    for page_pickle in range(1,10):\n",
    "        try:\n",
    "            articles = pickle.load(open('../data/all_articles_on'+str(repoId)+'_'+str(page_pickle)+'.pkl','rb'))\n",
    "            for page in range(0,len(articles)):\n",
    "                for item in articles[page]['data']:\n",
    "                    text = item['fullText']\n",
    "                    article_id=item['id']\n",
    "                    year=item['year']\n",
    "                    match = re.findall(r'[\\w\\.-]+@[\\w\\.-]+', text)\n",
    "#                     print(match)\n",
    "                    all_emails.append([article_id, year,match])\n",
    "        except (OSError,IOError) as e:\n",
    "            print(e)\n",
    "    return all_emails"
   ]
  },
  {
   "cell_type": "code",
   "execution_count": 575,
   "metadata": {
    "collapsed": true
   },
   "outputs": [],
   "source": [
    "#this takes some time to load - loads ~1.5G of data\n",
    "emails_of_repository=dict()\n",
    "# cached_repos=[1,86,39,136,48]\n",
    "cached_repos=[1,86]\n",
    "for i in cached_repos:\n",
    "    emails_of_repository[i]=get_all_emails_with_time_of_repository(i)"
   ]
  },
  {
   "cell_type": "code",
   "execution_count": 576,
   "metadata": {
    "collapsed": false
   },
   "outputs": [
    {
     "data": {
      "text/plain": [
       "[[u'19787393',\n",
       "  2014,\n",
       "  [u'L.V.Burgin@leeds.ac.uk',\n",
       "   u'Lorna.ramsay@education.gsi.gov.uk',\n",
       "   u'r.aspden@abdn.ac.uk']],\n",
       " [u'19787406', 2014, [u'david.mcghee@abdn.ac.uk']],\n",
       " [u'20327925', 2014, [u'j.mercer@abdn.ac.uk', u'michelle.murphy@abdn.ac.uk']],\n",
       " [u'20664118', 2014, [u'Sarah.Harris@igmm.ed.ac.uk.']],\n",
       " [u'20664131', 2014, [u'T.Gillingwater@ed.ac.uk.']],\n",
       " [u'20664054', 2014, [u'jiabao.he@abdn.ac.uk']],\n",
       " [u'20664371', 2014, []],\n",
       " [u'19888921', 2014, [u's.schwarzkopf@gmail.com']],\n",
       " [u'20664053',\n",
       "  2014,\n",
       "  [u'marie.castellazzi@hutton.ac.uk',\n",
       "   u'diana.feliciano@abdn.ac.uk',\n",
       "   u'iain.brown@hutton.ac.uk']],\n",
       " [u'20664046', 2014, [u'Jill.Francis.1@city.ac.uk']]]"
      ]
     },
     "execution_count": 576,
     "metadata": {},
     "output_type": "execute_result"
    }
   ],
   "source": [
    "emails_of_repository[1][0:10]"
   ]
  },
  {
   "cell_type": "code",
   "execution_count": 578,
   "metadata": {
    "collapsed": true
   },
   "outputs": [],
   "source": [
    "def flatten_list(unevenList):\n",
    "    flat_list=[]\n",
    "    for sublist in unevenList:\n",
    "        aid=sublist[0]\n",
    "        y=sublist[1]\n",
    "        emails = sublist[2]\n",
    "        for item in emails:\n",
    "            flat_list.append([aid,y,item])\n",
    "    return flat_list"
   ]
  },
  {
   "cell_type": "code",
   "execution_count": 579,
   "metadata": {
    "collapsed": false
   },
   "outputs": [],
   "source": [
    "# cached_repos={1:'abdn.ac.uk',86:'open.ac.uk',39:'ed.ac.uk',136:'warwick.ac.uk',48:'gla.ac.uk'}\n",
    "cached_repos={1:'abdn.ac.uk',86:'open.ac.uk'}\n",
    "\n",
    "for i in cached_repos:\n",
    "    emails_of_repository[i]=flatten_list(emails_of_repository[i])"
   ]
  },
  {
   "cell_type": "code",
   "execution_count": 581,
   "metadata": {
    "collapsed": false
   },
   "outputs": [
    {
     "data": {
      "text/plain": [
       "[[u'19787393', 2014, u'L.V.Burgin@leeds.ac.uk'],\n",
       " [u'19787393', 2014, u'Lorna.ramsay@education.gsi.gov.uk'],\n",
       " [u'19787393', 2014, u'r.aspden@abdn.ac.uk'],\n",
       " [u'19787406', 2014, u'david.mcghee@abdn.ac.uk'],\n",
       " [u'20327925', 2014, u'j.mercer@abdn.ac.uk'],\n",
       " [u'20327925', 2014, u'michelle.murphy@abdn.ac.uk'],\n",
       " [u'20664118', 2014, u'Sarah.Harris@igmm.ed.ac.uk.'],\n",
       " [u'20664131', 2014, u'T.Gillingwater@ed.ac.uk.'],\n",
       " [u'20664054', 2014, u'jiabao.he@abdn.ac.uk'],\n",
       " [u'19888921', 2014, u's.schwarzkopf@gmail.com']]"
      ]
     },
     "execution_count": 581,
     "metadata": {},
     "output_type": "execute_result"
    }
   ],
   "source": [
    "emails_of_repository[1][0:10]"
   ]
  },
  {
   "cell_type": "code",
   "execution_count": 582,
   "metadata": {
    "collapsed": false
   },
   "outputs": [
    {
     "data": {
      "text/html": [
       "<div>\n",
       "<table border=\"1\" class=\"dataframe\">\n",
       "  <thead>\n",
       "    <tr style=\"text-align: right;\">\n",
       "      <th></th>\n",
       "      <th>0</th>\n",
       "      <th>1</th>\n",
       "      <th>2</th>\n",
       "      <th>repository_domain</th>\n",
       "    </tr>\n",
       "  </thead>\n",
       "  <tbody>\n",
       "    <tr>\n",
       "      <th>0</th>\n",
       "      <td>19787393</td>\n",
       "      <td>2014</td>\n",
       "      <td>L.V.Burgin@leeds.ac.uk</td>\n",
       "      <td>abdn.ac.uk</td>\n",
       "    </tr>\n",
       "    <tr>\n",
       "      <th>1</th>\n",
       "      <td>19787393</td>\n",
       "      <td>2014</td>\n",
       "      <td>Lorna.ramsay@education.gsi.gov.uk</td>\n",
       "      <td>abdn.ac.uk</td>\n",
       "    </tr>\n",
       "    <tr>\n",
       "      <th>2</th>\n",
       "      <td>19787393</td>\n",
       "      <td>2014</td>\n",
       "      <td>r.aspden@abdn.ac.uk</td>\n",
       "      <td>abdn.ac.uk</td>\n",
       "    </tr>\n",
       "    <tr>\n",
       "      <th>3</th>\n",
       "      <td>19787406</td>\n",
       "      <td>2014</td>\n",
       "      <td>david.mcghee@abdn.ac.uk</td>\n",
       "      <td>abdn.ac.uk</td>\n",
       "    </tr>\n",
       "    <tr>\n",
       "      <th>4</th>\n",
       "      <td>20327925</td>\n",
       "      <td>2014</td>\n",
       "      <td>j.mercer@abdn.ac.uk</td>\n",
       "      <td>abdn.ac.uk</td>\n",
       "    </tr>\n",
       "  </tbody>\n",
       "</table>\n",
       "</div>"
      ],
      "text/plain": [
       "          0     1                                  2 repository_domain\n",
       "0  19787393  2014             L.V.Burgin@leeds.ac.uk        abdn.ac.uk\n",
       "1  19787393  2014  Lorna.ramsay@education.gsi.gov.uk        abdn.ac.uk\n",
       "2  19787393  2014                r.aspden@abdn.ac.uk        abdn.ac.uk\n",
       "3  19787406  2014            david.mcghee@abdn.ac.uk        abdn.ac.uk\n",
       "4  20327925  2014                j.mercer@abdn.ac.uk        abdn.ac.uk"
      ]
     },
     "execution_count": 582,
     "metadata": {},
     "output_type": "execute_result"
    }
   ],
   "source": [
    "import pandas as pd\n",
    "repos_collabs_df = pd.DataFrame()\n",
    "for i in cached_repos:\n",
    "    repo_df=pd.DataFrame.from_records(emails_of_repository[i])\n",
    "    repo_df['repository_domain']=cached_repos[i]\n",
    "    repos_collabs_df = repos_collabs_df.append(repo_df)\n",
    "repos_collabs_df.head()"
   ]
  },
  {
   "cell_type": "code",
   "execution_count": 583,
   "metadata": {
    "collapsed": false
   },
   "outputs": [
    {
     "data": {
      "text/plain": [
       "5235"
      ]
     },
     "execution_count": 583,
     "metadata": {},
     "output_type": "execute_result"
    }
   ],
   "source": [
    "len(repos_collabs_df)"
   ]
  },
  {
   "cell_type": "code",
   "execution_count": 584,
   "metadata": {
    "collapsed": false
   },
   "outputs": [
    {
     "data": {
      "text/html": [
       "<div>\n",
       "<table border=\"1\" class=\"dataframe\">\n",
       "  <thead>\n",
       "    <tr style=\"text-align: right;\">\n",
       "      <th></th>\n",
       "      <th>0</th>\n",
       "      <th>1</th>\n",
       "      <th>2</th>\n",
       "      <th>repository_domain</th>\n",
       "      <th>author_domain</th>\n",
       "    </tr>\n",
       "  </thead>\n",
       "  <tbody>\n",
       "    <tr>\n",
       "      <th>0</th>\n",
       "      <td>19787393</td>\n",
       "      <td>2014</td>\n",
       "      <td>L.V.Burgin@leeds.ac.uk</td>\n",
       "      <td>abdn.ac.uk</td>\n",
       "      <td>leeds.ac.uk</td>\n",
       "    </tr>\n",
       "    <tr>\n",
       "      <th>1</th>\n",
       "      <td>19787393</td>\n",
       "      <td>2014</td>\n",
       "      <td>Lorna.ramsay@education.gsi.gov.uk</td>\n",
       "      <td>abdn.ac.uk</td>\n",
       "      <td>education.gsi.gov.uk</td>\n",
       "    </tr>\n",
       "    <tr>\n",
       "      <th>2</th>\n",
       "      <td>19787393</td>\n",
       "      <td>2014</td>\n",
       "      <td>r.aspden@abdn.ac.uk</td>\n",
       "      <td>abdn.ac.uk</td>\n",
       "      <td>abdn.ac.uk</td>\n",
       "    </tr>\n",
       "    <tr>\n",
       "      <th>3</th>\n",
       "      <td>19787406</td>\n",
       "      <td>2014</td>\n",
       "      <td>david.mcghee@abdn.ac.uk</td>\n",
       "      <td>abdn.ac.uk</td>\n",
       "      <td>abdn.ac.uk</td>\n",
       "    </tr>\n",
       "    <tr>\n",
       "      <th>4</th>\n",
       "      <td>20327925</td>\n",
       "      <td>2014</td>\n",
       "      <td>j.mercer@abdn.ac.uk</td>\n",
       "      <td>abdn.ac.uk</td>\n",
       "      <td>abdn.ac.uk</td>\n",
       "    </tr>\n",
       "  </tbody>\n",
       "</table>\n",
       "</div>"
      ],
      "text/plain": [
       "          0     1                                  2 repository_domain  \\\n",
       "0  19787393  2014             L.V.Burgin@leeds.ac.uk        abdn.ac.uk   \n",
       "1  19787393  2014  Lorna.ramsay@education.gsi.gov.uk        abdn.ac.uk   \n",
       "2  19787393  2014                r.aspden@abdn.ac.uk        abdn.ac.uk   \n",
       "3  19787406  2014            david.mcghee@abdn.ac.uk        abdn.ac.uk   \n",
       "4  20327925  2014                j.mercer@abdn.ac.uk        abdn.ac.uk   \n",
       "\n",
       "          author_domain  \n",
       "0           leeds.ac.uk  \n",
       "1  education.gsi.gov.uk  \n",
       "2            abdn.ac.uk  \n",
       "3            abdn.ac.uk  \n",
       "4            abdn.ac.uk  "
      ]
     },
     "execution_count": 584,
     "metadata": {},
     "output_type": "execute_result"
    }
   ],
   "source": [
    "def extract_domain(email):\n",
    "    return email.split(\"@\")[1].rstrip(\",\").rstrip(\".\")\n",
    "repos_collabs_df['author_domain']=repos_collabs_df.apply(lambda row: extract_domain(row[2]),axis=1)\n",
    "repos_collabs_df.head()"
   ]
  },
  {
   "cell_type": "code",
   "execution_count": 585,
   "metadata": {
    "collapsed": false
   },
   "outputs": [
    {
     "data": {
      "text/plain": [
       "4948"
      ]
     },
     "execution_count": 585,
     "metadata": {},
     "output_type": "execute_result"
    }
   ],
   "source": [
    "#filter domains with too short length or too long\n",
    "mask = (repos_collabs_df['author_domain'].str.len() >5 )\n",
    "\n",
    "repos_collabs_filtered_df = repos_collabs_df.loc[mask]\n",
    "mask2 = (repos_collabs_filtered_df['author_domain'].str.len() <25 )\n",
    "repos_collabs_filtered_df = repos_collabs_filtered_df.loc[mask2]\n",
    "len(repos_collabs_filtered_df)\n",
    "\n"
   ]
  },
  {
   "cell_type": "code",
   "execution_count": 586,
   "metadata": {
    "collapsed": false
   },
   "outputs": [
    {
     "data": {
      "text/plain": [
       "5235"
      ]
     },
     "execution_count": 586,
     "metadata": {},
     "output_type": "execute_result"
    }
   ],
   "source": [
    "len(repos_collabs_df)"
   ]
  },
  {
   "cell_type": "code",
   "execution_count": 587,
   "metadata": {
    "collapsed": false
   },
   "outputs": [
    {
     "data": {
      "text/html": [
       "<div>\n",
       "<table border=\"1\" class=\"dataframe\">\n",
       "  <thead>\n",
       "    <tr style=\"text-align: right;\">\n",
       "      <th></th>\n",
       "      <th>author_domain</th>\n",
       "      <th>repository_domain</th>\n",
       "      <th>counts</th>\n",
       "    </tr>\n",
       "  </thead>\n",
       "  <tbody>\n",
       "    <tr>\n",
       "      <th>31</th>\n",
       "      <td>abdn.ac.uk</td>\n",
       "      <td>abdn.ac.uk</td>\n",
       "      <td>1184</td>\n",
       "    </tr>\n",
       "    <tr>\n",
       "      <th>769</th>\n",
       "      <td>open.ac.uk</td>\n",
       "      <td>open.ac.uk</td>\n",
       "      <td>891</td>\n",
       "    </tr>\n",
       "    <tr>\n",
       "      <th>706</th>\n",
       "      <td>ncl.ac.uk</td>\n",
       "      <td>abdn.ac.uk</td>\n",
       "      <td>67</td>\n",
       "    </tr>\n",
       "    <tr>\n",
       "      <th>369</th>\n",
       "      <td>gmail.com</td>\n",
       "      <td>abdn.ac.uk</td>\n",
       "      <td>66</td>\n",
       "    </tr>\n",
       "    <tr>\n",
       "      <th>16</th>\n",
       "      <td>Future</td>\n",
       "      <td>open.ac.uk</td>\n",
       "      <td>65</td>\n",
       "    </tr>\n",
       "    <tr>\n",
       "      <th>292</th>\n",
       "      <td>ed.ac.uk</td>\n",
       "      <td>abdn.ac.uk</td>\n",
       "      <td>55</td>\n",
       "    </tr>\n",
       "    <tr>\n",
       "      <th>726</th>\n",
       "      <td>nhs.net</td>\n",
       "      <td>abdn.ac.uk</td>\n",
       "      <td>44</td>\n",
       "    </tr>\n",
       "    <tr>\n",
       "      <th>370</th>\n",
       "      <td>gmail.com</td>\n",
       "      <td>open.ac.uk</td>\n",
       "      <td>37</td>\n",
       "    </tr>\n",
       "    <tr>\n",
       "      <th>402</th>\n",
       "      <td>hkucc.hku.hk</td>\n",
       "      <td>abdn.ac.uk</td>\n",
       "      <td>35</td>\n",
       "    </tr>\n",
       "    <tr>\n",
       "      <th>744</th>\n",
       "      <td>nottingham.ac.uk</td>\n",
       "      <td>open.ac.uk</td>\n",
       "      <td>30</td>\n",
       "    </tr>\n",
       "  </tbody>\n",
       "</table>\n",
       "</div>"
      ],
      "text/plain": [
       "        author_domain repository_domain  counts\n",
       "31         abdn.ac.uk        abdn.ac.uk    1184\n",
       "769        open.ac.uk        open.ac.uk     891\n",
       "706         ncl.ac.uk        abdn.ac.uk      67\n",
       "369         gmail.com        abdn.ac.uk      66\n",
       "16             Future        open.ac.uk      65\n",
       "292          ed.ac.uk        abdn.ac.uk      55\n",
       "726           nhs.net        abdn.ac.uk      44\n",
       "370         gmail.com        open.ac.uk      37\n",
       "402      hkucc.hku.hk        abdn.ac.uk      35\n",
       "744  nottingham.ac.uk        open.ac.uk      30"
      ]
     },
     "execution_count": 587,
     "metadata": {},
     "output_type": "execute_result"
    }
   ],
   "source": [
    "repos_collabs_grouped = pd.DataFrame(repos_collabs_filtered_df.groupby(['author_domain','repository_domain']).size().rename('counts').reset_index(name='counts').sort_values(['counts'],ascending=False))\n",
    "repos_collabs_grouped.head(10)"
   ]
  },
  {
   "cell_type": "code",
   "execution_count": 588,
   "metadata": {
    "collapsed": false
   },
   "outputs": [
    {
     "data": {
      "text/html": [
       "<div>\n",
       "<table border=\"1\" class=\"dataframe\">\n",
       "  <thead>\n",
       "    <tr style=\"text-align: right;\">\n",
       "      <th></th>\n",
       "      <th>repository_domain</th>\n",
       "      <th>counts</th>\n",
       "    </tr>\n",
       "  </thead>\n",
       "  <tbody>\n",
       "    <tr>\n",
       "      <th>0</th>\n",
       "      <td>abdn.ac.uk</td>\n",
       "      <td>2823</td>\n",
       "    </tr>\n",
       "    <tr>\n",
       "      <th>1</th>\n",
       "      <td>open.ac.uk</td>\n",
       "      <td>2125</td>\n",
       "    </tr>\n",
       "  </tbody>\n",
       "</table>\n",
       "</div>"
      ],
      "text/plain": [
       "  repository_domain  counts\n",
       "0        abdn.ac.uk    2823\n",
       "1        open.ac.uk    2125"
      ]
     },
     "execution_count": 588,
     "metadata": {},
     "output_type": "execute_result"
    }
   ],
   "source": [
    "source_repos_grouped = pd.DataFrame(repos_collabs_filtered_df.groupby('repository_domain').size().rename('counts').reset_index(name='counts').sort_values(['counts'],ascending=False))\n",
    "source_repos_grouped.head()\n",
    "# len(repos_collabs_grouped['author_domain'])\n",
    "# repos_collabs_grouped.set_index('counts', inplace=True)\n",
    "# repos_collabs_grouped.head(10)"
   ]
  },
  {
   "cell_type": "code",
   "execution_count": 589,
   "metadata": {
    "collapsed": false
   },
   "outputs": [],
   "source": [
    "# repos_collabs_grouped['author_domain'].unique()[:100]"
   ]
  },
  {
   "cell_type": "code",
   "execution_count": 590,
   "metadata": {
    "collapsed": false
   },
   "outputs": [],
   "source": [
    "# repos_collabs_grouped.set_index('author_domain', inplace=True)\n",
    "# repos_collabs_grouped.head()"
   ]
  },
  {
   "cell_type": "code",
   "execution_count": 591,
   "metadata": {
    "collapsed": false
   },
   "outputs": [],
   "source": [
    "source_repos_list = source_repos_grouped['repository_domain'].tolist()"
   ]
  },
  {
   "cell_type": "code",
   "execution_count": 592,
   "metadata": {
    "collapsed": false
   },
   "outputs": [
    {
     "ename": "ValueError",
     "evalue": "'warwick.ac.uk' is not in list",
     "output_type": "error",
     "traceback": [
      "\u001b[0;31m---------------------------------------------------------------------------\u001b[0m",
      "\u001b[0;31mValueError\u001b[0m                                Traceback (most recent call last)",
      "\u001b[0;32m<ipython-input-592-f3f88c559aec>\u001b[0m in \u001b[0;36m<module>\u001b[0;34m()\u001b[0m\n\u001b[0;32m----> 1\u001b[0;31m \u001b[0msource_repos_list\u001b[0m\u001b[0;34m.\u001b[0m\u001b[0mindex\u001b[0m\u001b[0;34m(\u001b[0m\u001b[0;34m'warwick.ac.uk'\u001b[0m\u001b[0;34m)\u001b[0m\u001b[0;34m\u001b[0m\u001b[0m\n\u001b[0m",
      "\u001b[0;31mValueError\u001b[0m: 'warwick.ac.uk' is not in list"
     ]
    }
   ],
   "source": [
    "source_repos_list.index('warwick.ac.uk')"
   ]
  },
  {
   "cell_type": "code",
   "execution_count": null,
   "metadata": {
    "collapsed": true
   },
   "outputs": [],
   "source": []
  },
  {
   "cell_type": "code",
   "execution_count": 644,
   "metadata": {
    "collapsed": false
   },
   "outputs": [
    {
     "data": {
      "text/plain": [
       "[u'abdn.ac.uk', u'open.ac.uk', u'ncl.ac.uk', u'gmail.com', u'Future']"
      ]
     },
     "execution_count": 644,
     "metadata": {},
     "output_type": "execute_result"
    }
   ],
   "source": [
    "# build the nodes of the sankey diagram\n",
    "sankey_labels = repos_collabs_grouped['author_domain'].tolist()\n",
    "sankey_labels.extend(source_repos_list)\n",
    "\n",
    "#make sure the last 5 are the repository ones (included once again)\n",
    "sankey_labels[:5]"
   ]
  },
  {
   "cell_type": "code",
   "execution_count": 645,
   "metadata": {
    "collapsed": false
   },
   "outputs": [
    {
     "data": {
      "text/plain": [
       "[u'inf.ed.ac.uk',\n",
       " u'info.fundp.ac.be',\n",
       " u'iol.ie',\n",
       " u'iol.ie',\n",
       " u'ioz.ac.cn',\n",
       " u'ipdglobal.com',\n",
       " u'ipfran.ru',\n",
       " u'zsl.org',\n",
       " 'abdn.ac.uk',\n",
       " 'open.ac.uk']"
      ]
     },
     "execution_count": 645,
     "metadata": {},
     "output_type": "execute_result"
    }
   ],
   "source": [
    "#check that the last elements are the domain of source repos\n",
    "sankey_labels[-10:]"
   ]
  },
  {
   "cell_type": "code",
   "execution_count": 646,
   "metadata": {
    "collapsed": true
   },
   "outputs": [],
   "source": [
    "def find_index_of_first_occurence_from_tail(haystack,value):\n",
    "    try:\n",
    "        i =len(haystack) - 1 - haystack[::-1].index(value)\n",
    "        return i\n",
    "    except:\n",
    "        print(\"EXCEPTION!!!\",haystack[0:5],value)\n",
    "        return "
   ]
  },
  {
   "cell_type": "code",
   "execution_count": 647,
   "metadata": {
    "collapsed": false
   },
   "outputs": [
    {
     "name": "stdout",
     "output_type": "stream",
     "text": [
      "('EXCEPTION!!!', [u'abdn.ac.uk', u'open.ac.uk', u'ncl.ac.uk', u'gmail.com', u'Future'], 'gla.ac.uk')\n"
     ]
    }
   ],
   "source": [
    "find_index_of_first_occurence_from_tail(sankey_labels,'gla.ac.uk')"
   ]
  },
  {
   "cell_type": "code",
   "execution_count": 657,
   "metadata": {
    "collapsed": false
   },
   "outputs": [
    {
     "ename": "ValueError",
     "evalue": "u'soton.ac.uk' is not in list",
     "output_type": "error",
     "traceback": [
      "\u001b[0;31m---------------------------------------------------------------------------\u001b[0m",
      "\u001b[0;31mValueError\u001b[0m                                Traceback (most recent call last)",
      "\u001b[0;32m<ipython-input-657-e2f1ffc496e1>\u001b[0m in \u001b[0;36m<module>\u001b[0;34m()\u001b[0m\n\u001b[1;32m     18\u001b[0m \u001b[0;34m\u001b[0m\u001b[0m\n\u001b[1;32m     19\u001b[0m \u001b[0;31m# find_index_of_first_occurence_from_tail(sankey_labels,'warwick.ac.uk')\u001b[0m\u001b[0;34m\u001b[0m\u001b[0;34m\u001b[0m\u001b[0m\n\u001b[0;32m---> 20\u001b[0;31m \u001b[0ms_source\u001b[0m\u001b[0;34m,\u001b[0m\u001b[0ms_target\u001b[0m\u001b[0;34m,\u001b[0m\u001b[0ms_values\u001b[0m\u001b[0;34m,\u001b[0m\u001b[0ms_labels\u001b[0m\u001b[0;34m=\u001b[0m\u001b[0mbreak_frame_columns_to_sankey_lists\u001b[0m\u001b[0;34m(\u001b[0m\u001b[0mrepos_collabs_grouped\u001b[0m\u001b[0;34m[\u001b[0m\u001b[0;36m0\u001b[0m\u001b[0;34m:\u001b[0m\u001b[0;36m75\u001b[0m\u001b[0;34m]\u001b[0m\u001b[0;34m)\u001b[0m\u001b[0;34m\u001b[0m\u001b[0m\n\u001b[0m",
      "\u001b[0;32m<ipython-input-657-e2f1ffc496e1>\u001b[0m in \u001b[0;36mbreak_frame_columns_to_sankey_lists\u001b[0;34m(frame)\u001b[0m\n\u001b[1;32m      6\u001b[0m     \u001b[0ms_labels\u001b[0m\u001b[0;34m=\u001b[0m\u001b[0;34m[\u001b[0m\u001b[0;34m]\u001b[0m\u001b[0;34m\u001b[0m\u001b[0m\n\u001b[1;32m      7\u001b[0m     \u001b[0;32mfor\u001b[0m \u001b[0mindex\u001b[0m\u001b[0;34m,\u001b[0m \u001b[0mrow\u001b[0m \u001b[0;32min\u001b[0m \u001b[0mframe\u001b[0m\u001b[0;34m.\u001b[0m\u001b[0miterrows\u001b[0m\u001b[0;34m(\u001b[0m\u001b[0;34m)\u001b[0m\u001b[0;34m:\u001b[0m\u001b[0;34m\u001b[0m\u001b[0m\n\u001b[0;32m----> 8\u001b[0;31m         \u001b[0msankey_source\u001b[0m\u001b[0;34m.\u001b[0m\u001b[0mappend\u001b[0m\u001b[0;34m(\u001b[0m\u001b[0msankey_labels\u001b[0m\u001b[0;34m.\u001b[0m\u001b[0mindex\u001b[0m\u001b[0;34m(\u001b[0m\u001b[0mrow\u001b[0m\u001b[0;34m[\u001b[0m\u001b[0;34m'author_domain'\u001b[0m\u001b[0;34m]\u001b[0m\u001b[0;34m)\u001b[0m\u001b[0;34m)\u001b[0m\u001b[0;34m\u001b[0m\u001b[0m\n\u001b[0m\u001b[1;32m      9\u001b[0m \u001b[0;31m#         print(row['repository_domain'])\u001b[0m\u001b[0;34m\u001b[0m\u001b[0;34m\u001b[0m\u001b[0m\n\u001b[1;32m     10\u001b[0m         \u001b[0mtargetRepoIndex\u001b[0m \u001b[0;34m=\u001b[0m \u001b[0mfind_index_of_first_occurence_from_tail\u001b[0m\u001b[0;34m(\u001b[0m\u001b[0msankey_labels\u001b[0m\u001b[0;34m,\u001b[0m\u001b[0mrow\u001b[0m\u001b[0;34m[\u001b[0m\u001b[0;34m'repository_domain'\u001b[0m\u001b[0;34m]\u001b[0m\u001b[0;34m)\u001b[0m\u001b[0;34m\u001b[0m\u001b[0m\n",
      "\u001b[0;31mValueError\u001b[0m: u'soton.ac.uk' is not in list"
     ]
    }
   ],
   "source": [
    "sankey_labels = sankey_labels[0:75]+sankey_labels[-2:]\n",
    "def break_frame_columns_to_sankey_lists(frame):\n",
    "    sankey_source=[]\n",
    "    sankey_target=[]\n",
    "    sankey_values=[]\n",
    "    s_labels=[]\n",
    "    for index, row in frame.iterrows():\n",
    "        sankey_source.append(sankey_labels.index(row['author_domain']))\n",
    "#         print(row['repository_domain'])\n",
    "        targetRepoIndex = find_index_of_first_occurence_from_tail(sankey_labels,row['repository_domain'])\n",
    "        sankey_target.append(targetRepoIndex)#we are looking for the last item in the list of nodes\n",
    "        if (row['author_domain']==row['repository_domain']):\n",
    "            sankey_values.append(row['counts']/3)#divide by N so that the basic flow does not dominate the chart\n",
    "        else:\n",
    "            sankey_values.append(row['counts'])\n",
    "        s_labels.append(\"{} collaborators from {} to {}\".format(row['counts'],row['author_domain'],row['repository_domain']))\n",
    "    return sankey_source,sankey_target,sankey_values,s_labels\n",
    "              \n",
    "# find_index_of_first_occurence_from_tail(sankey_labels,'warwick.ac.uk')\n",
    "s_source,s_target,s_values,s_labels=break_frame_columns_to_sankey_lists(repos_collabs_grouped[0:75])\n"
   ]
  },
  {
   "cell_type": "code",
   "execution_count": null,
   "metadata": {
    "collapsed": true
   },
   "outputs": [],
   "source": []
  },
  {
   "cell_type": "code",
   "execution_count": 658,
   "metadata": {
    "collapsed": false
   },
   "outputs": [
    {
     "data": {
      "text/plain": [
       "[u'abdn.ac.uk',\n",
       " u'open.ac.uk',\n",
       " u'ncl.ac.uk',\n",
       " u'gmail.com',\n",
       " u'Future',\n",
       " u'ed.ac.uk',\n",
       " u'nhs.net',\n",
       " u'gmail.com',\n",
       " u'hkucc.hku.hk',\n",
       " u'nottingham.ac.uk']"
      ]
     },
     "execution_count": 658,
     "metadata": {},
     "output_type": "execute_result"
    }
   ],
   "source": [
    "#let's view what is in the nodes/links\n",
    "sankey_labels[0:10]\n",
    "# sankey_labels[-10:]"
   ]
  },
  {
   "cell_type": "code",
   "execution_count": 659,
   "metadata": {
    "collapsed": false
   },
   "outputs": [
    {
     "name": "stdout",
     "output_type": "stream",
     "text": [
      "(50, 50, 50, 54)\n"
     ]
    }
   ],
   "source": [
    "print(len(s_source),len(s_target),len(s_values),len(sankey_labels))"
   ]
  },
  {
   "cell_type": "code",
   "execution_count": null,
   "metadata": {
    "collapsed": false
   },
   "outputs": [],
   "source": []
  },
  {
   "cell_type": "code",
   "execution_count": 660,
   "metadata": {
    "collapsed": false
   },
   "outputs": [],
   "source": [
    "#sankey colors of nodes - for now all the same - can be randomly selected\n",
    "sankey_link_colors=[]\n",
    "for i in range(0,len(s_source)):\n",
    "    sankey_link_colors.append(\"rgba(0,0,96,0.2)\")\n",
    "sankey_node_colors=[]\n",
    "for i in range(0,len(sankey_labels)):\n",
    "    sankey_node_colors.append(\"rgba(96,96,0,0.5)\")"
   ]
  },
  {
   "cell_type": "code",
   "execution_count": 661,
   "metadata": {
    "collapsed": false
   },
   "outputs": [
    {
     "name": "stdout",
     "output_type": "stream",
     "text": [
      "(54, 54)\n"
     ]
    }
   ],
   "source": [
    "# the lists of labels and colors should be equal in size\n",
    "print(len(sankey_labels),len(sankey_node_colors))"
   ]
  },
  {
   "cell_type": "code",
   "execution_count": 662,
   "metadata": {
    "collapsed": false
   },
   "outputs": [
    {
     "name": "stdout",
     "output_type": "stream",
     "text": [
      "(50, 50, 50, 50, 50)\n"
     ]
    }
   ],
   "source": [
    "#last check - all lengths of the lists below should be equal\n",
    "print(len(s_source),len(s_target),len(s_values),len(sankey_link_colors),len(s_labels))"
   ]
  },
  {
   "cell_type": "code",
   "execution_count": 663,
   "metadata": {
    "collapsed": false
   },
   "outputs": [
    {
     "name": "stdout",
     "output_type": "stream",
     "text": [
      "[40, 41, 42, 43, 44, 45, 46, 47, 48, 49]\n"
     ]
    }
   ],
   "source": [
    "print(s_source[-10:])"
   ]
  },
  {
   "cell_type": "code",
   "execution_count": 664,
   "metadata": {
    "collapsed": false
   },
   "outputs": [
    {
     "name": "stdout",
     "output_type": "stream",
     "text": [
      "[50, 51, 50, 50, 51, 50, 50, 51, 50, 51]\n"
     ]
    }
   ],
   "source": [
    "print(s_target[0:10])"
   ]
  },
  {
   "cell_type": "code",
   "execution_count": 665,
   "metadata": {
    "collapsed": false
   },
   "outputs": [
    {
     "data": {
      "application/vnd.plotly.v1+json": {
       "data": [
        {
         "domain": {
          "x": [
           0,
           1
          ],
          "y": [
           0,
           1
          ]
         },
         "height": 1000,
         "link": {
          "color": [
           "rgba(0,0,96,0.2)",
           "rgba(0,0,96,0.2)",
           "rgba(0,0,96,0.2)",
           "rgba(0,0,96,0.2)",
           "rgba(0,0,96,0.2)",
           "rgba(0,0,96,0.2)",
           "rgba(0,0,96,0.2)",
           "rgba(0,0,96,0.2)",
           "rgba(0,0,96,0.2)",
           "rgba(0,0,96,0.2)",
           "rgba(0,0,96,0.2)",
           "rgba(0,0,96,0.2)",
           "rgba(0,0,96,0.2)",
           "rgba(0,0,96,0.2)",
           "rgba(0,0,96,0.2)",
           "rgba(0,0,96,0.2)",
           "rgba(0,0,96,0.2)",
           "rgba(0,0,96,0.2)",
           "rgba(0,0,96,0.2)",
           "rgba(0,0,96,0.2)",
           "rgba(0,0,96,0.2)",
           "rgba(0,0,96,0.2)",
           "rgba(0,0,96,0.2)",
           "rgba(0,0,96,0.2)",
           "rgba(0,0,96,0.2)",
           "rgba(0,0,96,0.2)",
           "rgba(0,0,96,0.2)",
           "rgba(0,0,96,0.2)",
           "rgba(0,0,96,0.2)",
           "rgba(0,0,96,0.2)",
           "rgba(0,0,96,0.2)",
           "rgba(0,0,96,0.2)",
           "rgba(0,0,96,0.2)",
           "rgba(0,0,96,0.2)",
           "rgba(0,0,96,0.2)",
           "rgba(0,0,96,0.2)",
           "rgba(0,0,96,0.2)",
           "rgba(0,0,96,0.2)",
           "rgba(0,0,96,0.2)",
           "rgba(0,0,96,0.2)",
           "rgba(0,0,96,0.2)",
           "rgba(0,0,96,0.2)",
           "rgba(0,0,96,0.2)",
           "rgba(0,0,96,0.2)",
           "rgba(0,0,96,0.2)",
           "rgba(0,0,96,0.2)",
           "rgba(0,0,96,0.2)",
           "rgba(0,0,96,0.2)",
           "rgba(0,0,96,0.2)",
           "rgba(0,0,96,0.2)"
          ],
          "label": [
           "1184 collaborators from abdn.ac.uk to abdn.ac.uk",
           "891 collaborators from open.ac.uk to open.ac.uk",
           "67 collaborators from ncl.ac.uk to abdn.ac.uk",
           "66 collaborators from gmail.com to abdn.ac.uk",
           "65 collaborators from Future to open.ac.uk",
           "55 collaborators from ed.ac.uk to abdn.ac.uk",
           "44 collaborators from nhs.net to abdn.ac.uk",
           "37 collaborators from gmail.com to open.ac.uk",
           "35 collaborators from hkucc.hku.hk to abdn.ac.uk",
           "30 collaborators from nottingham.ac.uk to open.ac.uk",
           "29 collaborators from future to open.ac.uk",
           "28 collaborators from wiley.com to abdn.ac.uk",
           "24 collaborators from southampton.ac.uk to abdn.ac.uk",
           "21 collaborators from nhm.ac.uk to open.ac.uk",
           "20 collaborators from glasgow.ac.uk to abdn.ac.uk",
           "20 collaborators from dundee.ac.uk to abdn.ac.uk",
           "19 collaborators from ohri.ca to abdn.ac.uk",
           "19 collaborators from ecs.soton.ac.uk to open.ac.uk",
           "19 collaborators from yahoo.com to abdn.ac.uk",
           "17 collaborators from lshtm.ac.uk to abdn.ac.uk",
           "14 collaborators from ucl.ac.uk to abdn.ac.uk",
           "13 collaborators from cam.ac.uk to abdn.ac.uk",
           "13 collaborators from lmd.jussieu.fr to open.ac.uk",
           "13 collaborators from kcl.ac.uk to abdn.ac.uk",
           "12 collaborators from math.ucla.edu to abdn.ac.uk",
           "12 collaborators from acm.org to open.ac.uk",
           "12 collaborators from fi.uu.nl to open.ac.uk",
           "11 collaborators from sheffield.ac.uk to abdn.ac.uk",
           "11 collaborators from pik-potsdam.de to abdn.ac.uk",
           "11 collaborators from bham.ac.uk to abdn.ac.uk",
           "11 collaborators from st-andrews.ac.uk to abdn.ac.uk",
           "11 collaborators from ioe.ac.uk to open.ac.uk",
           "11 collaborators from acm.org to abdn.ac.uk",
           "11 collaborators from hotmail.com to abdn.ac.uk",
           "11 collaborators from cam.ac.uk to open.ac.uk",
           "10 collaborators from aberdeen.ac.uk to abdn.ac.uk",
           "10 collaborators from leeds.ac.uk to abdn.ac.uk",
           "10 collaborators from yahoo.com to open.ac.uk",
           "10 collaborators from manchester.ac.uk to open.ac.uk",
           "10 collaborators from ris.org.in to open.ac.uk",
           "9 collaborators from strath.ac.uk to abdn.ac.uk",
           "9 collaborators from stir.ac.uk to abdn.ac.uk",
           "9 collaborators from pratoricerche.it to open.ac.uk",
           "9 collaborators from erg.abdn.ac.uk to abdn.ac.uk",
           "9 collaborators from unifi.it to open.ac.uk",
           "9 collaborators from reading.ac.uk to open.ac.uk",
           "9 collaborators from newcastle.ac.uk to abdn.ac.uk",
           "9 collaborators from lboro.ac.uk to open.ac.uk",
           "9 collaborators from mcmaster.ca to abdn.ac.uk",
           "8 collaborators from ai.sri.com to open.ac.uk"
          ],
          "source": [
           0,
           1,
           2,
           3,
           4,
           5,
           6,
           3,
           8,
           9,
           10,
           11,
           12,
           13,
           14,
           15,
           16,
           17,
           18,
           19,
           20,
           21,
           22,
           23,
           24,
           25,
           26,
           27,
           28,
           29,
           30,
           31,
           25,
           33,
           21,
           35,
           36,
           18,
           38,
           39,
           40,
           41,
           42,
           43,
           44,
           45,
           46,
           47,
           48,
           49
          ],
          "target": [
           50,
           51,
           50,
           50,
           51,
           50,
           50,
           51,
           50,
           51,
           51,
           50,
           50,
           51,
           50,
           50,
           50,
           51,
           50,
           50,
           50,
           50,
           51,
           50,
           50,
           51,
           51,
           50,
           50,
           50,
           50,
           51,
           50,
           50,
           51,
           50,
           50,
           51,
           51,
           51,
           50,
           50,
           51,
           50,
           51,
           51,
           50,
           51,
           50,
           51
          ],
          "value": [
           394,
           297,
           67,
           66,
           65,
           55,
           44,
           37,
           35,
           30,
           29,
           28,
           24,
           21,
           20,
           20,
           19,
           19,
           19,
           17,
           14,
           13,
           13,
           13,
           12,
           12,
           12,
           11,
           11,
           11,
           11,
           11,
           11,
           11,
           11,
           10,
           10,
           10,
           10,
           10,
           9,
           9,
           9,
           9,
           9,
           9,
           9,
           9,
           9,
           8
          ]
         },
         "node": {
          "color": [
           "rgba(96,96,0,0.5)",
           "rgba(96,96,0,0.5)",
           "rgba(96,96,0,0.5)",
           "rgba(96,96,0,0.5)",
           "rgba(96,96,0,0.5)",
           "rgba(96,96,0,0.5)",
           "rgba(96,96,0,0.5)",
           "rgba(96,96,0,0.5)",
           "rgba(96,96,0,0.5)",
           "rgba(96,96,0,0.5)",
           "rgba(96,96,0,0.5)",
           "rgba(96,96,0,0.5)",
           "rgba(96,96,0,0.5)",
           "rgba(96,96,0,0.5)",
           "rgba(96,96,0,0.5)",
           "rgba(96,96,0,0.5)",
           "rgba(96,96,0,0.5)",
           "rgba(96,96,0,0.5)",
           "rgba(96,96,0,0.5)",
           "rgba(96,96,0,0.5)",
           "rgba(96,96,0,0.5)",
           "rgba(96,96,0,0.5)",
           "rgba(96,96,0,0.5)",
           "rgba(96,96,0,0.5)",
           "rgba(96,96,0,0.5)",
           "rgba(96,96,0,0.5)",
           "rgba(96,96,0,0.5)",
           "rgba(96,96,0,0.5)",
           "rgba(96,96,0,0.5)",
           "rgba(96,96,0,0.5)",
           "rgba(96,96,0,0.5)",
           "rgba(96,96,0,0.5)",
           "rgba(96,96,0,0.5)",
           "rgba(96,96,0,0.5)",
           "rgba(96,96,0,0.5)",
           "rgba(96,96,0,0.5)",
           "rgba(96,96,0,0.5)",
           "rgba(96,96,0,0.5)",
           "rgba(96,96,0,0.5)",
           "rgba(96,96,0,0.5)",
           "rgba(96,96,0,0.5)",
           "rgba(96,96,0,0.5)",
           "rgba(96,96,0,0.5)",
           "rgba(96,96,0,0.5)",
           "rgba(96,96,0,0.5)",
           "rgba(96,96,0,0.5)",
           "rgba(96,96,0,0.5)",
           "rgba(96,96,0,0.5)",
           "rgba(96,96,0,0.5)",
           "rgba(96,96,0,0.5)",
           "rgba(96,96,0,0.5)",
           "rgba(96,96,0,0.5)",
           "rgba(96,96,0,0.5)",
           "rgba(96,96,0,0.5)"
          ],
          "label": [
           "abdn.ac.uk",
           "open.ac.uk",
           "ncl.ac.uk",
           "gmail.com",
           "Future",
           "ed.ac.uk",
           "nhs.net",
           "gmail.com",
           "hkucc.hku.hk",
           "nottingham.ac.uk",
           "future",
           "wiley.com",
           "southampton.ac.uk",
           "nhm.ac.uk",
           "glasgow.ac.uk",
           "dundee.ac.uk",
           "ohri.ca",
           "ecs.soton.ac.uk",
           "yahoo.com",
           "lshtm.ac.uk",
           "ucl.ac.uk",
           "cam.ac.uk",
           "lmd.jussieu.fr",
           "kcl.ac.uk",
           "math.ucla.edu",
           "acm.org",
           "fi.uu.nl",
           "sheffield.ac.uk",
           "pik-potsdam.de",
           "bham.ac.uk",
           "st-andrews.ac.uk",
           "ioe.ac.uk",
           "acm.org",
           "hotmail.com",
           "cam.ac.uk",
           "aberdeen.ac.uk",
           "leeds.ac.uk",
           "yahoo.com",
           "manchester.ac.uk",
           "ris.org.in",
           "strath.ac.uk",
           "stir.ac.uk",
           "pratoricerche.it",
           "erg.abdn.ac.uk",
           "unifi.it",
           "reading.ac.uk",
           "newcastle.ac.uk",
           "lboro.ac.uk",
           "mcmaster.ca",
           "ai.sri.com",
           "abdn.ac.uk",
           "open.ac.uk",
           "abdn.ac.uk",
           "open.ac.uk"
          ],
          "line": {
           "color": "black",
           "width": 0.5
          },
          "pad": 2,
          "thickness": 1
         },
         "orientation": "h",
         "type": "sankey",
         "valueformat": ".0f",
         "width": 1248
        }
       ],
       "layout": {
        "autosize": true,
        "font": {
         "size": 10
        },
        "title": "Publication collaborations between Open university and Aberdeen university - top 50 collaborators displayed"
       }
      },
      "text/html": [
       "<div id=\"012c7a3d-ee31-4a8a-b75a-3ccabfea62ee\" style=\"height: 525px; width: 100%;\" class=\"plotly-graph-div\"></div><script type=\"text/javascript\">require([\"plotly\"], function(Plotly) { window.PLOTLYENV=window.PLOTLYENV || {};window.PLOTLYENV.BASE_URL=\"https://plot.ly\";Plotly.newPlot(\"012c7a3d-ee31-4a8a-b75a-3ccabfea62ee\", [{\"node\": {\"color\": [\"rgba(96,96,0,0.5)\", \"rgba(96,96,0,0.5)\", \"rgba(96,96,0,0.5)\", \"rgba(96,96,0,0.5)\", \"rgba(96,96,0,0.5)\", \"rgba(96,96,0,0.5)\", \"rgba(96,96,0,0.5)\", \"rgba(96,96,0,0.5)\", \"rgba(96,96,0,0.5)\", \"rgba(96,96,0,0.5)\", \"rgba(96,96,0,0.5)\", \"rgba(96,96,0,0.5)\", \"rgba(96,96,0,0.5)\", \"rgba(96,96,0,0.5)\", \"rgba(96,96,0,0.5)\", \"rgba(96,96,0,0.5)\", \"rgba(96,96,0,0.5)\", \"rgba(96,96,0,0.5)\", \"rgba(96,96,0,0.5)\", \"rgba(96,96,0,0.5)\", \"rgba(96,96,0,0.5)\", \"rgba(96,96,0,0.5)\", \"rgba(96,96,0,0.5)\", \"rgba(96,96,0,0.5)\", \"rgba(96,96,0,0.5)\", \"rgba(96,96,0,0.5)\", \"rgba(96,96,0,0.5)\", \"rgba(96,96,0,0.5)\", \"rgba(96,96,0,0.5)\", \"rgba(96,96,0,0.5)\", \"rgba(96,96,0,0.5)\", \"rgba(96,96,0,0.5)\", \"rgba(96,96,0,0.5)\", \"rgba(96,96,0,0.5)\", \"rgba(96,96,0,0.5)\", \"rgba(96,96,0,0.5)\", \"rgba(96,96,0,0.5)\", \"rgba(96,96,0,0.5)\", \"rgba(96,96,0,0.5)\", \"rgba(96,96,0,0.5)\", \"rgba(96,96,0,0.5)\", \"rgba(96,96,0,0.5)\", \"rgba(96,96,0,0.5)\", \"rgba(96,96,0,0.5)\", \"rgba(96,96,0,0.5)\", \"rgba(96,96,0,0.5)\", \"rgba(96,96,0,0.5)\", \"rgba(96,96,0,0.5)\", \"rgba(96,96,0,0.5)\", \"rgba(96,96,0,0.5)\", \"rgba(96,96,0,0.5)\", \"rgba(96,96,0,0.5)\", \"rgba(96,96,0,0.5)\", \"rgba(96,96,0,0.5)\"], \"line\": {\"color\": \"black\", \"width\": 0.5}, \"thickness\": 1, \"pad\": 2, \"label\": [\"abdn.ac.uk\", \"open.ac.uk\", \"ncl.ac.uk\", \"gmail.com\", \"Future\", \"ed.ac.uk\", \"nhs.net\", \"gmail.com\", \"hkucc.hku.hk\", \"nottingham.ac.uk\", \"future\", \"wiley.com\", \"southampton.ac.uk\", \"nhm.ac.uk\", \"glasgow.ac.uk\", \"dundee.ac.uk\", \"ohri.ca\", \"ecs.soton.ac.uk\", \"yahoo.com\", \"lshtm.ac.uk\", \"ucl.ac.uk\", \"cam.ac.uk\", \"lmd.jussieu.fr\", \"kcl.ac.uk\", \"math.ucla.edu\", \"acm.org\", \"fi.uu.nl\", \"sheffield.ac.uk\", \"pik-potsdam.de\", \"bham.ac.uk\", \"st-andrews.ac.uk\", \"ioe.ac.uk\", \"acm.org\", \"hotmail.com\", \"cam.ac.uk\", \"aberdeen.ac.uk\", \"leeds.ac.uk\", \"yahoo.com\", \"manchester.ac.uk\", \"ris.org.in\", \"strath.ac.uk\", \"stir.ac.uk\", \"pratoricerche.it\", \"erg.abdn.ac.uk\", \"unifi.it\", \"reading.ac.uk\", \"newcastle.ac.uk\", \"lboro.ac.uk\", \"mcmaster.ca\", \"ai.sri.com\", \"abdn.ac.uk\", \"open.ac.uk\", \"abdn.ac.uk\", \"open.ac.uk\"]}, \"valueformat\": \".0f\", \"domain\": {\"y\": [0, 1], \"x\": [0, 1]}, \"orientation\": \"h\", \"height\": 1000, \"width\": 1248, \"link\": {\"color\": [\"rgba(0,0,96,0.2)\", \"rgba(0,0,96,0.2)\", \"rgba(0,0,96,0.2)\", \"rgba(0,0,96,0.2)\", \"rgba(0,0,96,0.2)\", \"rgba(0,0,96,0.2)\", \"rgba(0,0,96,0.2)\", \"rgba(0,0,96,0.2)\", \"rgba(0,0,96,0.2)\", \"rgba(0,0,96,0.2)\", \"rgba(0,0,96,0.2)\", \"rgba(0,0,96,0.2)\", \"rgba(0,0,96,0.2)\", \"rgba(0,0,96,0.2)\", \"rgba(0,0,96,0.2)\", \"rgba(0,0,96,0.2)\", \"rgba(0,0,96,0.2)\", \"rgba(0,0,96,0.2)\", \"rgba(0,0,96,0.2)\", \"rgba(0,0,96,0.2)\", \"rgba(0,0,96,0.2)\", \"rgba(0,0,96,0.2)\", \"rgba(0,0,96,0.2)\", \"rgba(0,0,96,0.2)\", \"rgba(0,0,96,0.2)\", \"rgba(0,0,96,0.2)\", \"rgba(0,0,96,0.2)\", \"rgba(0,0,96,0.2)\", \"rgba(0,0,96,0.2)\", \"rgba(0,0,96,0.2)\", \"rgba(0,0,96,0.2)\", \"rgba(0,0,96,0.2)\", \"rgba(0,0,96,0.2)\", \"rgba(0,0,96,0.2)\", \"rgba(0,0,96,0.2)\", \"rgba(0,0,96,0.2)\", \"rgba(0,0,96,0.2)\", \"rgba(0,0,96,0.2)\", \"rgba(0,0,96,0.2)\", \"rgba(0,0,96,0.2)\", \"rgba(0,0,96,0.2)\", \"rgba(0,0,96,0.2)\", \"rgba(0,0,96,0.2)\", \"rgba(0,0,96,0.2)\", \"rgba(0,0,96,0.2)\", \"rgba(0,0,96,0.2)\", \"rgba(0,0,96,0.2)\", \"rgba(0,0,96,0.2)\", \"rgba(0,0,96,0.2)\", \"rgba(0,0,96,0.2)\"], \"source\": [0, 1, 2, 3, 4, 5, 6, 3, 8, 9, 10, 11, 12, 13, 14, 15, 16, 17, 18, 19, 20, 21, 22, 23, 24, 25, 26, 27, 28, 29, 30, 31, 25, 33, 21, 35, 36, 18, 38, 39, 40, 41, 42, 43, 44, 45, 46, 47, 48, 49], \"target\": [50, 51, 50, 50, 51, 50, 50, 51, 50, 51, 51, 50, 50, 51, 50, 50, 50, 51, 50, 50, 50, 50, 51, 50, 50, 51, 51, 50, 50, 50, 50, 51, 50, 50, 51, 50, 50, 51, 51, 51, 50, 50, 51, 50, 51, 51, 50, 51, 50, 51], \"value\": [394, 297, 67, 66, 65, 55, 44, 37, 35, 30, 29, 28, 24, 21, 20, 20, 19, 19, 19, 17, 14, 13, 13, 13, 12, 12, 12, 11, 11, 11, 11, 11, 11, 11, 11, 10, 10, 10, 10, 10, 9, 9, 9, 9, 9, 9, 9, 9, 9, 8], \"label\": [\"1184 collaborators from abdn.ac.uk to abdn.ac.uk\", \"891 collaborators from open.ac.uk to open.ac.uk\", \"67 collaborators from ncl.ac.uk to abdn.ac.uk\", \"66 collaborators from gmail.com to abdn.ac.uk\", \"65 collaborators from Future to open.ac.uk\", \"55 collaborators from ed.ac.uk to abdn.ac.uk\", \"44 collaborators from nhs.net to abdn.ac.uk\", \"37 collaborators from gmail.com to open.ac.uk\", \"35 collaborators from hkucc.hku.hk to abdn.ac.uk\", \"30 collaborators from nottingham.ac.uk to open.ac.uk\", \"29 collaborators from future to open.ac.uk\", \"28 collaborators from wiley.com to abdn.ac.uk\", \"24 collaborators from southampton.ac.uk to abdn.ac.uk\", \"21 collaborators from nhm.ac.uk to open.ac.uk\", \"20 collaborators from glasgow.ac.uk to abdn.ac.uk\", \"20 collaborators from dundee.ac.uk to abdn.ac.uk\", \"19 collaborators from ohri.ca to abdn.ac.uk\", \"19 collaborators from ecs.soton.ac.uk to open.ac.uk\", \"19 collaborators from yahoo.com to abdn.ac.uk\", \"17 collaborators from lshtm.ac.uk to abdn.ac.uk\", \"14 collaborators from ucl.ac.uk to abdn.ac.uk\", \"13 collaborators from cam.ac.uk to abdn.ac.uk\", \"13 collaborators from lmd.jussieu.fr to open.ac.uk\", \"13 collaborators from kcl.ac.uk to abdn.ac.uk\", \"12 collaborators from math.ucla.edu to abdn.ac.uk\", \"12 collaborators from acm.org to open.ac.uk\", \"12 collaborators from fi.uu.nl to open.ac.uk\", \"11 collaborators from sheffield.ac.uk to abdn.ac.uk\", \"11 collaborators from pik-potsdam.de to abdn.ac.uk\", \"11 collaborators from bham.ac.uk to abdn.ac.uk\", \"11 collaborators from st-andrews.ac.uk to abdn.ac.uk\", \"11 collaborators from ioe.ac.uk to open.ac.uk\", \"11 collaborators from acm.org to abdn.ac.uk\", \"11 collaborators from hotmail.com to abdn.ac.uk\", \"11 collaborators from cam.ac.uk to open.ac.uk\", \"10 collaborators from aberdeen.ac.uk to abdn.ac.uk\", \"10 collaborators from leeds.ac.uk to abdn.ac.uk\", \"10 collaborators from yahoo.com to open.ac.uk\", \"10 collaborators from manchester.ac.uk to open.ac.uk\", \"10 collaborators from ris.org.in to open.ac.uk\", \"9 collaborators from strath.ac.uk to abdn.ac.uk\", \"9 collaborators from stir.ac.uk to abdn.ac.uk\", \"9 collaborators from pratoricerche.it to open.ac.uk\", \"9 collaborators from erg.abdn.ac.uk to abdn.ac.uk\", \"9 collaborators from unifi.it to open.ac.uk\", \"9 collaborators from reading.ac.uk to open.ac.uk\", \"9 collaborators from newcastle.ac.uk to abdn.ac.uk\", \"9 collaborators from lboro.ac.uk to open.ac.uk\", \"9 collaborators from mcmaster.ca to abdn.ac.uk\", \"8 collaborators from ai.sri.com to open.ac.uk\"]}, \"type\": \"sankey\"}], {\"autosize\": true, \"font\": {\"size\": 10}, \"title\": \"Publication collaborations between Open university and Aberdeen university - top 50 collaborators displayed\"}, {\"linkText\": \"Export to plot.ly\", \"showLink\": true})});</script>"
      ],
      "text/vnd.plotly.v1+html": [
       "<div id=\"012c7a3d-ee31-4a8a-b75a-3ccabfea62ee\" style=\"height: 525px; width: 100%;\" class=\"plotly-graph-div\"></div><script type=\"text/javascript\">require([\"plotly\"], function(Plotly) { window.PLOTLYENV=window.PLOTLYENV || {};window.PLOTLYENV.BASE_URL=\"https://plot.ly\";Plotly.newPlot(\"012c7a3d-ee31-4a8a-b75a-3ccabfea62ee\", [{\"node\": {\"color\": [\"rgba(96,96,0,0.5)\", \"rgba(96,96,0,0.5)\", \"rgba(96,96,0,0.5)\", \"rgba(96,96,0,0.5)\", \"rgba(96,96,0,0.5)\", \"rgba(96,96,0,0.5)\", \"rgba(96,96,0,0.5)\", \"rgba(96,96,0,0.5)\", \"rgba(96,96,0,0.5)\", \"rgba(96,96,0,0.5)\", \"rgba(96,96,0,0.5)\", \"rgba(96,96,0,0.5)\", \"rgba(96,96,0,0.5)\", \"rgba(96,96,0,0.5)\", \"rgba(96,96,0,0.5)\", \"rgba(96,96,0,0.5)\", \"rgba(96,96,0,0.5)\", \"rgba(96,96,0,0.5)\", \"rgba(96,96,0,0.5)\", \"rgba(96,96,0,0.5)\", \"rgba(96,96,0,0.5)\", \"rgba(96,96,0,0.5)\", \"rgba(96,96,0,0.5)\", \"rgba(96,96,0,0.5)\", \"rgba(96,96,0,0.5)\", \"rgba(96,96,0,0.5)\", \"rgba(96,96,0,0.5)\", \"rgba(96,96,0,0.5)\", \"rgba(96,96,0,0.5)\", \"rgba(96,96,0,0.5)\", \"rgba(96,96,0,0.5)\", \"rgba(96,96,0,0.5)\", \"rgba(96,96,0,0.5)\", \"rgba(96,96,0,0.5)\", \"rgba(96,96,0,0.5)\", \"rgba(96,96,0,0.5)\", \"rgba(96,96,0,0.5)\", \"rgba(96,96,0,0.5)\", \"rgba(96,96,0,0.5)\", \"rgba(96,96,0,0.5)\", \"rgba(96,96,0,0.5)\", \"rgba(96,96,0,0.5)\", \"rgba(96,96,0,0.5)\", \"rgba(96,96,0,0.5)\", \"rgba(96,96,0,0.5)\", \"rgba(96,96,0,0.5)\", \"rgba(96,96,0,0.5)\", \"rgba(96,96,0,0.5)\", \"rgba(96,96,0,0.5)\", \"rgba(96,96,0,0.5)\", \"rgba(96,96,0,0.5)\", \"rgba(96,96,0,0.5)\", \"rgba(96,96,0,0.5)\", \"rgba(96,96,0,0.5)\"], \"line\": {\"color\": \"black\", \"width\": 0.5}, \"thickness\": 1, \"pad\": 2, \"label\": [\"abdn.ac.uk\", \"open.ac.uk\", \"ncl.ac.uk\", \"gmail.com\", \"Future\", \"ed.ac.uk\", \"nhs.net\", \"gmail.com\", \"hkucc.hku.hk\", \"nottingham.ac.uk\", \"future\", \"wiley.com\", \"southampton.ac.uk\", \"nhm.ac.uk\", \"glasgow.ac.uk\", \"dundee.ac.uk\", \"ohri.ca\", \"ecs.soton.ac.uk\", \"yahoo.com\", \"lshtm.ac.uk\", \"ucl.ac.uk\", \"cam.ac.uk\", \"lmd.jussieu.fr\", \"kcl.ac.uk\", \"math.ucla.edu\", \"acm.org\", \"fi.uu.nl\", \"sheffield.ac.uk\", \"pik-potsdam.de\", \"bham.ac.uk\", \"st-andrews.ac.uk\", \"ioe.ac.uk\", \"acm.org\", \"hotmail.com\", \"cam.ac.uk\", \"aberdeen.ac.uk\", \"leeds.ac.uk\", \"yahoo.com\", \"manchester.ac.uk\", \"ris.org.in\", \"strath.ac.uk\", \"stir.ac.uk\", \"pratoricerche.it\", \"erg.abdn.ac.uk\", \"unifi.it\", \"reading.ac.uk\", \"newcastle.ac.uk\", \"lboro.ac.uk\", \"mcmaster.ca\", \"ai.sri.com\", \"abdn.ac.uk\", \"open.ac.uk\", \"abdn.ac.uk\", \"open.ac.uk\"]}, \"valueformat\": \".0f\", \"domain\": {\"y\": [0, 1], \"x\": [0, 1]}, \"orientation\": \"h\", \"height\": 1000, \"width\": 1248, \"link\": {\"color\": [\"rgba(0,0,96,0.2)\", \"rgba(0,0,96,0.2)\", \"rgba(0,0,96,0.2)\", \"rgba(0,0,96,0.2)\", \"rgba(0,0,96,0.2)\", \"rgba(0,0,96,0.2)\", \"rgba(0,0,96,0.2)\", \"rgba(0,0,96,0.2)\", \"rgba(0,0,96,0.2)\", \"rgba(0,0,96,0.2)\", \"rgba(0,0,96,0.2)\", \"rgba(0,0,96,0.2)\", \"rgba(0,0,96,0.2)\", \"rgba(0,0,96,0.2)\", \"rgba(0,0,96,0.2)\", \"rgba(0,0,96,0.2)\", \"rgba(0,0,96,0.2)\", \"rgba(0,0,96,0.2)\", \"rgba(0,0,96,0.2)\", \"rgba(0,0,96,0.2)\", \"rgba(0,0,96,0.2)\", \"rgba(0,0,96,0.2)\", \"rgba(0,0,96,0.2)\", \"rgba(0,0,96,0.2)\", \"rgba(0,0,96,0.2)\", \"rgba(0,0,96,0.2)\", \"rgba(0,0,96,0.2)\", \"rgba(0,0,96,0.2)\", \"rgba(0,0,96,0.2)\", \"rgba(0,0,96,0.2)\", \"rgba(0,0,96,0.2)\", \"rgba(0,0,96,0.2)\", \"rgba(0,0,96,0.2)\", \"rgba(0,0,96,0.2)\", \"rgba(0,0,96,0.2)\", \"rgba(0,0,96,0.2)\", \"rgba(0,0,96,0.2)\", \"rgba(0,0,96,0.2)\", \"rgba(0,0,96,0.2)\", \"rgba(0,0,96,0.2)\", \"rgba(0,0,96,0.2)\", \"rgba(0,0,96,0.2)\", \"rgba(0,0,96,0.2)\", \"rgba(0,0,96,0.2)\", \"rgba(0,0,96,0.2)\", \"rgba(0,0,96,0.2)\", \"rgba(0,0,96,0.2)\", \"rgba(0,0,96,0.2)\", \"rgba(0,0,96,0.2)\", \"rgba(0,0,96,0.2)\"], \"source\": [0, 1, 2, 3, 4, 5, 6, 3, 8, 9, 10, 11, 12, 13, 14, 15, 16, 17, 18, 19, 20, 21, 22, 23, 24, 25, 26, 27, 28, 29, 30, 31, 25, 33, 21, 35, 36, 18, 38, 39, 40, 41, 42, 43, 44, 45, 46, 47, 48, 49], \"target\": [50, 51, 50, 50, 51, 50, 50, 51, 50, 51, 51, 50, 50, 51, 50, 50, 50, 51, 50, 50, 50, 50, 51, 50, 50, 51, 51, 50, 50, 50, 50, 51, 50, 50, 51, 50, 50, 51, 51, 51, 50, 50, 51, 50, 51, 51, 50, 51, 50, 51], \"value\": [394, 297, 67, 66, 65, 55, 44, 37, 35, 30, 29, 28, 24, 21, 20, 20, 19, 19, 19, 17, 14, 13, 13, 13, 12, 12, 12, 11, 11, 11, 11, 11, 11, 11, 11, 10, 10, 10, 10, 10, 9, 9, 9, 9, 9, 9, 9, 9, 9, 8], \"label\": [\"1184 collaborators from abdn.ac.uk to abdn.ac.uk\", \"891 collaborators from open.ac.uk to open.ac.uk\", \"67 collaborators from ncl.ac.uk to abdn.ac.uk\", \"66 collaborators from gmail.com to abdn.ac.uk\", \"65 collaborators from Future to open.ac.uk\", \"55 collaborators from ed.ac.uk to abdn.ac.uk\", \"44 collaborators from nhs.net to abdn.ac.uk\", \"37 collaborators from gmail.com to open.ac.uk\", \"35 collaborators from hkucc.hku.hk to abdn.ac.uk\", \"30 collaborators from nottingham.ac.uk to open.ac.uk\", \"29 collaborators from future to open.ac.uk\", \"28 collaborators from wiley.com to abdn.ac.uk\", \"24 collaborators from southampton.ac.uk to abdn.ac.uk\", \"21 collaborators from nhm.ac.uk to open.ac.uk\", \"20 collaborators from glasgow.ac.uk to abdn.ac.uk\", \"20 collaborators from dundee.ac.uk to abdn.ac.uk\", \"19 collaborators from ohri.ca to abdn.ac.uk\", \"19 collaborators from ecs.soton.ac.uk to open.ac.uk\", \"19 collaborators from yahoo.com to abdn.ac.uk\", \"17 collaborators from lshtm.ac.uk to abdn.ac.uk\", \"14 collaborators from ucl.ac.uk to abdn.ac.uk\", \"13 collaborators from cam.ac.uk to abdn.ac.uk\", \"13 collaborators from lmd.jussieu.fr to open.ac.uk\", \"13 collaborators from kcl.ac.uk to abdn.ac.uk\", \"12 collaborators from math.ucla.edu to abdn.ac.uk\", \"12 collaborators from acm.org to open.ac.uk\", \"12 collaborators from fi.uu.nl to open.ac.uk\", \"11 collaborators from sheffield.ac.uk to abdn.ac.uk\", \"11 collaborators from pik-potsdam.de to abdn.ac.uk\", \"11 collaborators from bham.ac.uk to abdn.ac.uk\", \"11 collaborators from st-andrews.ac.uk to abdn.ac.uk\", \"11 collaborators from ioe.ac.uk to open.ac.uk\", \"11 collaborators from acm.org to abdn.ac.uk\", \"11 collaborators from hotmail.com to abdn.ac.uk\", \"11 collaborators from cam.ac.uk to open.ac.uk\", \"10 collaborators from aberdeen.ac.uk to abdn.ac.uk\", \"10 collaborators from leeds.ac.uk to abdn.ac.uk\", \"10 collaborators from yahoo.com to open.ac.uk\", \"10 collaborators from manchester.ac.uk to open.ac.uk\", \"10 collaborators from ris.org.in to open.ac.uk\", \"9 collaborators from strath.ac.uk to abdn.ac.uk\", \"9 collaborators from stir.ac.uk to abdn.ac.uk\", \"9 collaborators from pratoricerche.it to open.ac.uk\", \"9 collaborators from erg.abdn.ac.uk to abdn.ac.uk\", \"9 collaborators from unifi.it to open.ac.uk\", \"9 collaborators from reading.ac.uk to open.ac.uk\", \"9 collaborators from newcastle.ac.uk to abdn.ac.uk\", \"9 collaborators from lboro.ac.uk to open.ac.uk\", \"9 collaborators from mcmaster.ca to abdn.ac.uk\", \"8 collaborators from ai.sri.com to open.ac.uk\"]}, \"type\": \"sankey\"}], {\"autosize\": true, \"font\": {\"size\": 10}, \"title\": \"Publication collaborations between Open university and Aberdeen university - top 50 collaborators displayed\"}, {\"linkText\": \"Export to plot.ly\", \"showLink\": true})});</script>"
      ]
     },
     "metadata": {},
     "output_type": "display_data"
    }
   ],
   "source": [
    "data_trace = dict(\n",
    "    type='sankey',\n",
    "    width = 1248,\n",
    "    height = 1000,\n",
    "    domain = dict(\n",
    "      x =  [0,1],\n",
    "      y =  [0,1]\n",
    "    ),\n",
    "    orientation = \"h\",\n",
    "    valueformat = \".0f\",\n",
    "    node = dict(\n",
    "      pad = 2,\n",
    "      thickness = 1,\n",
    "      line = dict(\n",
    "        color = \"black\",\n",
    "        width = 0.5\n",
    "      ),\n",
    "      label =  sankey_labels,\n",
    "      color =  sankey_node_colors\n",
    "    ),\n",
    "    link = dict(\n",
    "      source =  s_source,\n",
    "      target =  s_target,\n",
    "      value =  s_values,\n",
    "      color =  sankey_link_colors,\n",
    "      label =  s_labels\n",
    "  ))\n",
    "\n",
    "layout =  dict(\n",
    "    title = \"Publication collaborations between Open university and Aberdeen university - top 50 collaborators displayed\",\n",
    "    font = dict(\n",
    "      size = 10\n",
    "    ),autosize=True\n",
    ")\n",
    "\n",
    "fig = dict(data=[data_trace], layout=layout)\n",
    "\n",
    "\n",
    "plotly.offline.iplot(fig, validate=False)"
   ]
  },
  {
   "cell_type": "code",
   "execution_count": 666,
   "metadata": {
    "collapsed": false
   },
   "outputs": [],
   "source": [
    "# import plotly.plotly as py\n",
    "# plotly.offline.iplot(fig, filename='2_unis_collab')"
   ]
  },
  {
   "cell_type": "code",
   "execution_count": null,
   "metadata": {
    "collapsed": true
   },
   "outputs": [],
   "source": []
  },
  {
   "cell_type": "code",
   "execution_count": null,
   "metadata": {
    "collapsed": true
   },
   "outputs": [],
   "source": []
  }
 ],
 "metadata": {
  "kernelspec": {
   "display_name": "Python 2",
   "language": "python",
   "name": "python2"
  },
  "language_info": {
   "codemirror_mode": {
    "name": "ipython",
    "version": 2
   },
   "file_extension": ".py",
   "mimetype": "text/x-python",
   "name": "python",
   "nbconvert_exporter": "python",
   "pygments_lexer": "ipython2",
   "version": "2.7.12"
  }
 },
 "nbformat": 4,
 "nbformat_minor": 0
}
